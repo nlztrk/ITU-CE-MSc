{
 "cells": [
  {
   "cell_type": "markdown",
   "metadata": {},
   "source": [
    "### BLG561E Assignment 4.1: Recurrent Neural Networks\n",
    "\n",
    "\n",
    "In this assignment, we will use the same API as in Assignment 1. You have implemented most of the required layers. You will add RNN layer under `./layers/layers_with_weights`"
   ]
  },
  {
   "cell_type": "code",
   "execution_count": 1,
   "metadata": {},
   "outputs": [],
   "source": [
    "from blg561.layer.layers_with_weights import RNNLayer\n",
    "from blg561.checks import rel_error, grad_check\n",
    "from blg561.layer.layer import Tanh\n",
    "import numpy as np\n",
    "%load_ext autoreload\n",
    "%autoreload 2\n",
    "%reload_ext autoreload"
   ]
  },
  {
   "cell_type": "markdown",
   "metadata": {},
   "source": [
    "### RNN Layer: Forward step (5 points)\n",
    "First implement and call the forward step for the RNN layer in RNNLayer class, and check the error rates whether below or 1e-6 or not."
   ]
  },
  {
   "cell_type": "code",
   "execution_count": 2,
   "metadata": {},
   "outputs": [
    {
     "name": "stdout",
     "output_type": "stream",
     "text": [
      "next_h error:  6.292421426471037e-09\n"
     ]
    }
   ],
   "source": [
    "N, D, H = 3, 10, 4\n",
    "rnn = RNNLayer(3, 3)\n",
    "x = np.linspace(-0.4, 0.7, num=N*D).reshape(N, D)\n",
    "prev_h = np.linspace(-0.2, 0.5, num=N*H).reshape(N, H)\n",
    "rnn.W_ih = np.linspace(-0.1, 0.9, num=D*H).reshape(D, H)\n",
    "rnn.W_hh = np.linspace(-0.3, 0.7, num=H*H).reshape(H, H)\n",
    "rnn.b = np.linspace(-0.2, 0.4, num=H)\n",
    "\n",
    "next_h = rnn.forward_step(x, prev_h)\n",
    "expected_next_h = np.array([\n",
    "  [-0.58172089, -0.50182032, -0.41232771, -0.31410098],\n",
    "  [ 0.66854692,  0.79562378,  0.87755553,  0.92795967],\n",
    "  [ 0.97934501,  0.99144213,  0.99646691,  0.99854353]])\n",
    "\n",
    "print('next_h error: ', rel_error(expected_next_h, next_h))"
   ]
  },
  {
   "cell_type": "markdown",
   "metadata": {},
   "source": [
    "### RNN Forward Pass (5 points)\n",
    "Now, under RNNLayer, implement the forward method. It processes whole series. i.e. all time points in the sequence"
   ]
  },
  {
   "cell_type": "code",
   "execution_count": 3,
   "metadata": {},
   "outputs": [
    {
     "name": "stdout",
     "output_type": "stream",
     "text": [
      "h error:  3.533790822429694e-08\n"
     ]
    }
   ],
   "source": [
    "N, T, D, H = 2, 3, 4, 5\n",
    "rnn = RNNLayer(4,5)\n",
    "x = np.linspace(-0.1, 0.3, num=N*T*D).reshape(N, T, D)\n",
    "prev_h = np.linspace(-0.3, 0.1, num=N*H).reshape(N, H)\n",
    "rnn.W_ih = np.linspace(-0.2, 0.4, num=D*H).reshape(D, H)\n",
    "rnn.W_hh = np.linspace(-0.4, 0.1, num=H*H).reshape(H, H)\n",
    "rnn.b = np.linspace(-0.7, 0.1, num=H)\n",
    "\n",
    "h = rnn.forward(x, prev_h)\n",
    "expected_h = np.array([\n",
    "  [\n",
    "    [-0.42070749, -0.27279261, -0.11074945,  0.05740409,  0.22236251],\n",
    "    [-0.39525808, -0.22554661, -0.0409454,   0.14649412,  0.32397316],\n",
    "    [-0.42305111, -0.24223728, -0.04287027,  0.15997045,  0.35014525],\n",
    "  ],\n",
    "  [\n",
    "    [-0.55857474, -0.39065825, -0.19198182,  0.02378408,  0.23735671],\n",
    "    [-0.27150199, -0.07088804,  0.13562939,  0.33099728,  0.50158768],\n",
    "    [-0.51014825, -0.30524429, -0.06755202,  0.17806392,  0.40333043]]])\n",
    "print('h error: ', rel_error(expected_h[0], h[0]))"
   ]
  },
  {
   "cell_type": "markdown",
   "metadata": {},
   "source": [
    "### RNN Layer: Backward step (5 points)\n",
    "First implement and call the backward step for the RNN layer in RNNLayer class, and check the error rates to see whether they are below or 1e-6 or not."
   ]
  },
  {
   "cell_type": "code",
   "execution_count": 4,
   "metadata": {},
   "outputs": [
    {
     "name": "stdout",
     "output_type": "stream",
     "text": [
      "dx error:  8.933803417802173e-11\n",
      "dprev_h error:  8.162318324366429e-11\n",
      "dWx error:  2.7611508291536214e-11\n",
      "dWh error:  5.4289594216460855e-11\n",
      "db error:  3.2647691588646005e-10\n"
     ]
    }
   ],
   "source": [
    "np.random.seed(1)\n",
    "N, D, H = 4, 5, 6\n",
    "rnn = RNNLayer(D, H)\n",
    "\n",
    "x = np.linspace(-0.4, 0.7, num=N*D).reshape(N, D)\n",
    "prev_H = np.linspace(-0.2, 0.5, num=N*H).reshape(N, H)\n",
    "rnn.W_ih = np.linspace(-0.1, 0.9, num=D*H).reshape(D, H)\n",
    "rnn.W_hh = np.linspace(-0.3, 0.7, num=H*H).reshape(H, H)\n",
    "rnn.b = np.linspace(-0.2, 0.4, num=H)\n",
    "rnn.x = [x]\n",
    "out = rnn.forward_step(x, prev_H)\n",
    "\n",
    "dnext_h = np.linspace(-0.2, 0.4, num=N*H).reshape(N, H)\n",
    "\n",
    "dx = rnn.backward_step(prev_H, dnext_h)\n",
    "dprev_h = rnn.dprev_H\n",
    "dW_ih = rnn.dW_ih \n",
    "dW_hh = rnn.dW_hh\n",
    "db = rnn.db\n",
    "f = lambda _: rnn.forward_step(x, prev_H)\n",
    "\n",
    "\n",
    "dx_num = grad_check(f, x, dnext_h)\n",
    "dprev_h_num = grad_check(f, prev_H, dnext_h)\n",
    "dW_ih_num = grad_check(f, rnn.W_ih, dnext_h)\n",
    "dW_hh_num = grad_check(f, rnn.W_hh, dnext_h)\n",
    "db_num = grad_check(f, rnn.b, dnext_h)\n",
    "\n",
    "\n",
    "print('dx error: ', rel_error(dx_num, dx))\n",
    "print('dprev_h error: ', rel_error(dprev_h_num, dprev_h))\n",
    "print('dWx error: ', rel_error(dW_ih_num, dW_ih))\n",
    "print('dWh error: ', rel_error(dW_hh_num, dW_hh))\n",
    "print('db error: ', rel_error(db_num, db))"
   ]
  },
  {
   "cell_type": "markdown",
   "metadata": {},
   "source": [
    "### RNNLayer: Backward pass (5 points)\n",
    "Now, under RNNLayer, implement the backward method. It processes whole series. i.e. all time points in the sequence"
   ]
  },
  {
   "cell_type": "code",
   "execution_count": 5,
   "metadata": {},
   "outputs": [
    {
     "name": "stdout",
     "output_type": "stream",
     "text": [
      "dx error:  6.3568026948154245e-15\n",
      "dh0 error:  4.282551415282429e-16\n",
      "dWx error:  2.0852706256201176e-16\n",
      "dWh error:  4.888728652742765e-16\n",
      "db error:  1.538241775454289e-15\n"
     ]
    }
   ],
   "source": [
    "np.random.seed(1)\n",
    "\n",
    "N, D, T, H = 2, 10, 5, 5\n",
    "rnn = RNNLayer(D, H)\n",
    "\n",
    "\n",
    "x = np.linspace(-0.4, 0.7, num=N*D*T).reshape(N, T, D)\n",
    "h = np.linspace(-0.2, 0.5, num=N*H).reshape(N, H)\n",
    "rnn.W_ih = np.linspace(-0.1, 0.9, num=D*H).reshape(D, H)\n",
    "rnn.W_hh = np.linspace(-0.3, 0.7, num=H*H).reshape(H, H)\n",
    "rnn.b = np.linspace(-0.2, 0.4, num=H)\n",
    "\n",
    "out = rnn.forward(x, h)\n",
    "\n",
    "dout = np.linspace(-0.2, 0.4, num=N*H*T).reshape(N,T,H)\n",
    "\n",
    "dx, dh, dWx, dWh, db = rnn.backward(dout)\n",
    "\n",
    "dx_num = np.load('blg561/expected/dx.npy')\n",
    "dh0_num = np.load('blg561/expected/dh0.npy')\n",
    "dWx_num = np.load('blg561/expected/dW_ih.npy')\n",
    "dWh_num = np.load('blg561/expected/dW_hh.npy')\n",
    "db_num = np.load('blg561/expected/db.npy')\n",
    "\n",
    "print('dx error: ', rel_error(dx_num, dx))\n",
    "print('dh0 error: ', rel_error(dh0_num, dh))\n",
    "print('dWx error: ', rel_error(dWx_num, dWx))\n",
    "print('dWh error: ', rel_error(dWh_num, dWh))\n",
    "print('db error: ', rel_error(db_num, db))"
   ]
  }
 ],
 "metadata": {
  "kernelspec": {
   "display_name": "Python 3",
   "language": "python",
   "name": "python3"
  },
  "language_info": {
   "codemirror_mode": {
    "name": "ipython",
    "version": 3
   },
   "file_extension": ".py",
   "mimetype": "text/x-python",
   "name": "python",
   "nbconvert_exporter": "python",
   "pygments_lexer": "ipython3",
   "version": "3.5.6"
  }
 },
 "nbformat": 4,
 "nbformat_minor": 2
}
