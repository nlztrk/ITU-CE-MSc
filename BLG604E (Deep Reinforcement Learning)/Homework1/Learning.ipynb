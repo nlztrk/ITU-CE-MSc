{
 "cells": [
  {
   "cell_type": "markdown",
   "metadata": {},
   "source": [
    "## TD METHODS\n",
    "\n",
    "In DP methods we found optimal policies. But, we used ```transition_map``` to do that. This is quite impractical. There are many reasons for that:\n",
    "\n",
    "- We don't know all the states we can visit\n",
    "- Environment dynamics can be unknown\n",
    "- Iterating over all states can be computationally infeasible\n",
    "\n",
    "In this notebook, we will be practicing over TD methods. Instead of calculating exact value we will get samples and estimate the value over samples. One thing comes into mind when we talk about the sample is **Monte Carlo**. MC method is the first algorithm we will be implementing.\n",
    "\n",
    "**MC** estimation and control is pretty simple. We sample trajectories from the environment by following a policy $\\pi$ and calculate the returns of each state we visit.\n",
    "\n",
    "**Question 1)** How can you ensure that we visit(sample) enough states to find an optimal policy?"
   ]
  },
  {
   "cell_type": "markdown",
   "metadata": {},
   "source": [
    "We can use epsilon-greedy approach for taking actions in order to solve exploration-exploitation dilemma. This way, we will get a chance to observe unobserved states."
   ]
  },
  {
   "cell_type": "markdown",
   "metadata": {},
   "source": [
    "#### Environment\n",
    "\n",
    "We will be using a new environment called **Warehouse** where an agent tries to match each item with the corresponding box. Building a transition map for this environment would be painful. Luckily, we don't need to build that in TD methods. The ```worldmap``` is given below (you can modify this for fun but, we will be using the one below to evaluate).\n",
    "\n",
    "You can run the cell below to visualize the environment.\n",
    "- <span style=\"color:#989898\">Dark gray cells</span> are impassable cells.\n",
    "- <span style=\"color:#DADADA\">light gray cells</span> are passable empty cells.\n",
    "- <span style=\"color:#00B8FA\">Blue cell</span> is the agent.\n",
    "- <span style=\"color:#A33675\"> cell </span> and <span style=\"color:#48C69F\"> cell </span> are items to collect. \n",
    "- <span style=\"color:#B34685\"> cell </span> and <span style=\"color:#58D6AF\"> cell </span> are the boxes.\n",
    "\n",
    "Note that, boxes are slightly lighter in color.\n",
    "\n",
    "Pairing is also given below. A key in the pairing dictionary is a box(uppercase) and its corresponding value is a list of items(lowercase) that can be delivered to that box.\n",
    "\n",
    "State representation is different here. Instead of giving just the position of the agent, we have 4 more additional features. These are 4 boolean values for two items and two boxes.  The boolean feature is true if the item or box exists on the map and false otherwise."
   ]
  },
  {
   "cell_type": "code",
   "execution_count": 1,
   "metadata": {
    "scrolled": false
   },
   "outputs": [
    {
     "name": "stderr",
     "output_type": "stream",
     "text": [
      "/home/nlztrk/anaconda3/envs/drl/lib/python3.6/site-packages/pycolab/ascii_art.py:318: FutureWarning: arrays to stack must be passed as a \"sequence\" type such as list or tuple. Support for non-sequence iterables such as generators is deprecated as of NumPy 1.16 and will raise an error in the future.\n",
      "  art = np.vstack(np.fromstring(line, dtype=np.uint8) for line in art)\n"
     ]
    },
    {
     "data": {
      "application/vnd.jupyter.widget-view+json": {
       "model_id": "52333ab2d47b47b3b41a7f39d734fea8",
       "version_major": 2,
       "version_minor": 0
      },
      "text/plain": [
       "Canvas(layout=Layout(height='500px', width='700px'), size=(700, 500))"
      ]
     },
     "metadata": {},
     "output_type": "display_data"
    }
   ],
   "source": [
    "%load_ext autoreload\n",
    "%autoreload 2\n",
    "\n",
    "from rl_hw1.env import Warehouse\n",
    "\n",
    "worldmap = [\"#########\",\n",
    "            \"#   #   #\",\n",
    "            \"# c # C #\",\n",
    "            \"#   #   #\",\n",
    "            \"#   P   #\",\n",
    "            \"#   #   #\",\n",
    "            \"# b # B #\",\n",
    "            \"#   #   #\",\n",
    "            \"#########\"]\n",
    "\n",
    "# Buckets are Uppercase letters while balls are lowercase\n",
    "# Matching is done so that the ball \"b\" must be carried to the bucket \"B\"\n",
    "pairing = {\n",
    "    \"B\": [\"b\"],\n",
    "    \"C\": [\"c\"]\n",
    "}\n",
    "\n",
    "env = Warehouse(balls=\"cb\", buckets=\"BC\",\n",
    "                pairing=pairing, worldmap=worldmap)\n",
    "env.init_render()\n"
   ]
  },
  {
   "cell_type": "markdown",
   "metadata": {},
   "source": [
    "**Question 2)** In the ```rl_hw1/learning/monte_carlo.py``` module, implement ```MonteCarloAgent```\n",
    "\n"
   ]
  },
  {
   "cell_type": "markdown",
   "metadata": {},
   "source": [
    "Let's train the ```MonteCarloAgent``` using the training loop given below. You can tune hyperparameters(```args```) given below. ```args``` is a namedtuple built from the dictionary initialized between lines 10 and 18. \n",
    "\n",
    "**Question 3)** Train the ```MonteCarloAgent``` by tuning the hyperparameters. For all of your implementations (MC, Q learning, Sarsa) your agent should get at least **1.5** episodic reward(sum of rewards throughout an episode)."
   ]
  },
  {
   "cell_type": "code",
   "execution_count": 2,
   "metadata": {
    "scrolled": false
   },
   "outputs": [
    {
     "name": "stdout",
     "output_type": "stream",
     "text": [
      "Episode: 50, reward: 0.0\n",
      "Episode: 100, reward: 0.0\n",
      "Episode: 150, reward: 0.42\n",
      "Episode: 200, reward: 0.86\n",
      "Episode: 250, reward: 0.44\n",
      "Episode: 300, reward: 0.5\n",
      "Episode: 350, reward: 1.5\n",
      "Episode: 400, reward: 2.0\n",
      "Episode: 450, reward: 2.0\n",
      "Episode: 500, reward: 2.0\n",
      "Episode: 550, reward: 2.0\n",
      "Episode: 600, reward: 2.0\n",
      "Episode: 650, reward: 2.0\n",
      "Episode: 700, reward: 2.0\n",
      "Episode: 750, reward: 2.0\n",
      "Episode: 800, reward: 2.0\n",
      "Episode: 850, reward: 2.0\n"
     ]
    }
   ],
   "source": [
    "from rl_hw1.learning import MonteCarloAgent\n",
    "from collections import namedtuple\n",
    "import numpy as np\n",
    "import random\n",
    "\n",
    "# Initialize agent\n",
    "agent = MonteCarloAgent(nact=4)\n",
    "\n",
    "# Hyperparameters\n",
    "args = dict(\n",
    "    iteration = 850, #3000\n",
    "    gamma = 0.98,\n",
    "    alpha = 0.1,\n",
    "    init_eps = 0.75,\n",
    "    final_eps = 0.15,\n",
    "    eps_decay_rate = 0.998,\n",
    "    seed = 12020,            # Current year: (10000 + 2020 = 12020) Holocene calendar\n",
    ")\n",
    "args = namedtuple('args', args.keys())(*args.values()) \n",
    "\n",
    "# Seed\n",
    "np.random.seed(args.seed)\n",
    "random.seed(args.seed)\n",
    "\n",
    "# Traning loop\n",
    "reward_list = []\n",
    "epsilon = args.init_eps\n",
    "for ix in range(args.iteration):\n",
    "    epsilon = max( min(args.init_eps, epsilon*args.eps_decay_rate), args.final_eps)\n",
    "    reward = agent.one_epsiode_train(\n",
    "        env, lambda x: agent.e_greedy_policy(x, epsilon), args.gamma, args.alpha)\n",
    "    reward_list.append(reward)\n",
    "    if ((ix + 1) % 50) == 0:\n",
    "        print(\"Episode: {}, reward: {}\".format(ix + 1, np.mean(reward_list[-100:])))"
   ]
  },
  {
   "cell_type": "markdown",
   "metadata": {},
   "source": [
    "Now, let's try to render the trained agent. Run the followwing cells below."
   ]
  },
  {
   "cell_type": "code",
   "execution_count": 3,
   "metadata": {},
   "outputs": [
    {
     "data": {
      "application/vnd.jupyter.widget-view+json": {
       "model_id": "227595e153294cd983dd420139affedf",
       "version_major": 2,
       "version_minor": 0
      },
      "text/plain": [
       "Canvas(layout=Layout(height='500px', width='700px'), size=(700, 500))"
      ]
     },
     "metadata": {},
     "output_type": "display_data"
    }
   ],
   "source": [
    "env = Warehouse(balls=\"cb\", buckets=\"BC\",\n",
    "                pairing=pairing, worldmap=worldmap)\n",
    "env.init_render()"
   ]
  },
  {
   "cell_type": "code",
   "execution_count": 4,
   "metadata": {},
   "outputs": [
    {
     "data": {
      "text/plain": [
       "2.0"
      ]
     },
     "execution_count": 4,
     "metadata": {},
     "output_type": "execute_result"
    }
   ],
   "source": [
    "# You can run this cell to visualize the agent as many times as you wish.\n",
    "agent.evaluate(env, render=True)"
   ]
  },
  {
   "cell_type": "markdown",
   "metadata": {},
   "source": [
    "MC method waits until the episode is terminated to begin the update. But, is it possible to update the policy within every transition? Temporal Difference(TD) methods exactly aim for this. There are two popular TD methods that you will be implementing: Q Learning and SARSA.\n",
    "\n",
    "**Question 3)** What is the difference between off-policy and on-policy algorithms?"
   ]
  },
  {
   "cell_type": "markdown",
   "metadata": {},
   "source": [
    "Off-Policy algorithms take $\\textbf{greedy actions}$ based on current values. They learn the value of the optimal policy independently of the agent's actions. \n",
    "\n",
    "On-Policy algorithms take actions based on $\\textbf{the current policy}$. They learn the value of the policy being carried out by the agent including the exploration steps."
   ]
  },
  {
   "cell_type": "markdown",
   "metadata": {},
   "source": [
    "\n",
    "### Q - Learning\n",
    "\n",
    "Q learning is an off-policy algorithm that employs temporal difference value estimation.\n",
    "\n",
    "**Question 4)** What makes Q learning an off-policy algorithm?"
   ]
  },
  {
   "cell_type": "markdown",
   "metadata": {},
   "source": [
    "Because it optimizes its values by the values of the next state and $\\textbf{greedy action}$."
   ]
  },
  {
   "cell_type": "markdown",
   "metadata": {},
   "source": [
    "**Question 5)**  In the ```rl_hw1/learning/td.py``` module, implement ```QAgent```"
   ]
  },
  {
   "cell_type": "code",
   "execution_count": 5,
   "metadata": {},
   "outputs": [
    {
     "name": "stderr",
     "output_type": "stream",
     "text": [
      "/home/nlztrk/anaconda3/envs/drl/lib/python3.6/site-packages/pycolab/ascii_art.py:318: FutureWarning: arrays to stack must be passed as a \"sequence\" type such as list or tuple. Support for non-sequence iterables such as generators is deprecated as of NumPy 1.16 and will raise an error in the future.\n",
      "  art = np.vstack(np.fromstring(line, dtype=np.uint8) for line in art)\n"
     ]
    },
    {
     "name": "stdout",
     "output_type": "stream",
     "text": [
      "Episode: 50, reward: 0.1\n",
      "Episode: 100, reward: 0.2\n",
      "Episode: 150, reward: 0.5\n",
      "Episode: 200, reward: 1.0\n",
      "Episode: 250, reward: 1.2\n",
      "Episode: 300, reward: 1.35\n",
      "Episode: 350, reward: 1.1\n",
      "Episode: 400, reward: 1.2\n",
      "Episode: 450, reward: 1.15\n",
      "Episode: 500, reward: 1.1\n",
      "Episode: 550, reward: 1.15\n",
      "Episode: 600, reward: 1.3\n",
      "Episode: 650, reward: 1.4\n",
      "Episode: 700, reward: 1.3\n",
      "Episode: 750, reward: 1.25\n",
      "Episode: 800, reward: 1.1\n",
      "Episode: 850, reward: 1.65\n",
      "Episode: 900, reward: 1.8\n",
      "Episode: 950, reward: 1.7\n",
      "Episode: 1000, reward: 1.7\n",
      "Episode: 1050, reward: 2.0\n",
      "Episode: 1100, reward: 2.0\n",
      "Episode: 1150, reward: 1.95\n",
      "Episode: 1200, reward: 1.8\n",
      "Episode: 1250, reward: 1.9\n",
      "Episode: 1300, reward: 2.0\n",
      "Episode: 1350, reward: 1.95\n",
      "Episode: 1400, reward: 1.95\n",
      "Episode: 1450, reward: 2.0\n",
      "Episode: 1500, reward: 1.95\n",
      "Episode: 1550, reward: 1.95\n",
      "Episode: 1600, reward: 2.0\n",
      "Episode: 1650, reward: 2.0\n",
      "Episode: 1700, reward: 2.0\n",
      "Episode: 1750, reward: 2.0\n",
      "Episode: 1800, reward: 1.95\n",
      "Episode: 1850, reward: 1.95\n",
      "Episode: 1900, reward: 1.85\n",
      "Episode: 1950, reward: 2.0\n",
      "Episode: 2000, reward: 2.0\n",
      "Episode: 2050, reward: 2.0\n",
      "Episode: 2100, reward: 1.95\n",
      "Episode: 2150, reward: 1.9\n",
      "Episode: 2200, reward: 1.95\n",
      "Episode: 2250, reward: 2.0\n",
      "Episode: 2300, reward: 2.0\n",
      "Episode: 2350, reward: 2.0\n",
      "Episode: 2400, reward: 2.0\n",
      "Episode: 2450, reward: 2.0\n",
      "Episode: 2500, reward: 2.0\n",
      "Episode: 2550, reward: 2.0\n",
      "Episode: 2600, reward: 2.0\n",
      "Episode: 2650, reward: 2.0\n",
      "Episode: 2700, reward: 2.0\n",
      "Episode: 2750, reward: 2.0\n",
      "Episode: 2800, reward: 2.0\n"
     ]
    }
   ],
   "source": [
    "from collections import namedtuple\n",
    "import numpy as np\n",
    "import random\n",
    "import matplotlib.pyplot as plt\n",
    "\n",
    "from rl_hw1.learning import QAgent, SarsaAgent\n",
    "\n",
    "\n",
    "# Initiate environment\n",
    "env = Warehouse(balls=\"cb\", buckets=\"BC\",\n",
    "                pairing=pairing, worldmap=worldmap)\n",
    "\n",
    "# Initialize agent\n",
    "q_agent = QAgent(nact=4)\n",
    "# Hyperparameters\n",
    "args = dict(\n",
    "    episodes = 2800,\n",
    "    evaluate_period = 50,\n",
    "    gamma = 0.75,\n",
    "    alpha = 0.1,\n",
    "    init_eps = .9,\n",
    "    final_eps = .2,\n",
    "    eps_decay_rate = 0.9995,\n",
    "    seed = 12020,            # Current year: (10000 + 2020 = 12020) Holocene calendar\n",
    ")\n",
    "args = namedtuple('args', args.keys())(*args.values()) \n",
    "\n",
    "# Seed\n",
    "np.random.seed(args.seed)\n",
    "random.seed(args.seed)\n",
    "\n",
    "\n",
    "q_rewards = q_agent.train(env, q_agent.e_greedy_policy, args)"
   ]
  },
  {
   "cell_type": "code",
   "execution_count": 6,
   "metadata": {},
   "outputs": [
    {
     "data": {
      "image/png": "[encoded data removed]",
      "text/plain": [
       "<Figure size 432x288 with 1 Axes>"
      ]
     },
     "metadata": {
      "needs_background": "light"
     },
     "output_type": "display_data"
    }
   ],
   "source": [
    "%matplotlib inline\n",
    "plt.plot(np.convolve(q_rewards, np.ones(10)/10, \"valid\"))\n",
    "plt.show()"
   ]
  },
  {
   "cell_type": "code",
   "execution_count": 7,
   "metadata": {},
   "outputs": [
    {
     "data": {
      "application/vnd.jupyter.widget-view+json": {
       "model_id": "74777c106e544d728547965966805fe3",
       "version_major": 2,
       "version_minor": 0
      },
      "text/plain": [
       "Canvas(layout=Layout(height='500px', width='700px'), size=(700, 500))"
      ]
     },
     "metadata": {},
     "output_type": "display_data"
    }
   ],
   "source": [
    "env.init_render()"
   ]
  },
  {
   "cell_type": "code",
   "execution_count": 8,
   "metadata": {},
   "outputs": [
    {
     "data": {
      "text/plain": [
       "2.0"
      ]
     },
     "execution_count": 8,
     "metadata": {},
     "output_type": "execute_result"
    }
   ],
   "source": [
    "# You can run this cell to visualize the agent as many times as you wish.\n",
    "q_agent.evaluate(env, render=True)"
   ]
  },
  {
   "cell_type": "markdown",
   "metadata": {},
   "source": [
    "You implemented an off-policy TD(Temporal Difference) Learning algorithm. Now, try to implement SARSA. You can find the pseudocode in chapter 6 of Reinforcement Learning Book (Sutton & Barta).\n",
    "\n",
    "**Question 6) What makes SARSA an on-policy algorithm?"
   ]
  },
  {
   "cell_type": "markdown",
   "metadata": {},
   "source": [
    "Because it optimizes its values by the values of the next state and $\\textbf{action that comes from the current policy}$. It estimates that the current policy will be continued to be used."
   ]
  },
  {
   "cell_type": "markdown",
   "metadata": {},
   "source": [
    "**Question 7)** In the ```rl_hw1/learning/td.py``` module, implement ```SarsaAgent```"
   ]
  },
  {
   "cell_type": "markdown",
   "metadata": {},
   "source": [
    "**Question 8)** Write down a training loop similar to what we did for Q learning on the above cells, to test your ```SarsaAgent```"
   ]
  },
  {
   "cell_type": "code",
   "execution_count": 9,
   "metadata": {},
   "outputs": [
    {
     "name": "stdout",
     "output_type": "stream",
     "text": [
      "Episode: 50, reward: 0.1\n",
      "Episode: 100, reward: 0.2\n",
      "Episode: 150, reward: 0.15\n",
      "Episode: 200, reward: 1.05\n",
      "Episode: 250, reward: 1.3\n",
      "Episode: 300, reward: 1.25\n",
      "Episode: 350, reward: 1.2\n",
      "Episode: 400, reward: 1.3\n",
      "Episode: 450, reward: 1.15\n",
      "Episode: 500, reward: 1.2\n",
      "Episode: 550, reward: 1.2\n",
      "Episode: 600, reward: 1.1\n",
      "Episode: 650, reward: 1.15\n",
      "Episode: 700, reward: 1.25\n",
      "Episode: 750, reward: 1.1\n",
      "Episode: 800, reward: 1.0\n",
      "Episode: 850, reward: 1.2\n",
      "Episode: 900, reward: 1.15\n",
      "Episode: 950, reward: 1.05\n",
      "Episode: 1000, reward: 1.1\n",
      "Episode: 1050, reward: 1.05\n",
      "Episode: 1100, reward: 1.1\n",
      "Episode: 1150, reward: 1.4\n",
      "Episode: 1200, reward: 1.15\n",
      "Episode: 1250, reward: 1.2\n",
      "Episode: 1300, reward: 1.35\n",
      "Episode: 1350, reward: 1.25\n",
      "Episode: 1400, reward: 1.5\n",
      "Episode: 1450, reward: 1.6\n",
      "Episode: 1500, reward: 1.7\n",
      "Episode: 1550, reward: 1.75\n",
      "Episode: 1600, reward: 1.95\n",
      "Episode: 1650, reward: 2.0\n",
      "Episode: 1700, reward: 1.75\n",
      "Episode: 1750, reward: 1.9\n",
      "Episode: 1800, reward: 2.0\n",
      "Episode: 1850, reward: 2.0\n",
      "Episode: 1900, reward: 2.0\n"
     ]
    }
   ],
   "source": [
    "# Sarsa training loop\n",
    "\n",
    "# Initialize agent\n",
    "sarsa_agent = SarsaAgent(nact=4)\n",
    "# Hyperparameters\n",
    "args = dict(\n",
    "    episodes = 1900,\n",
    "    evaluate_period = 50,\n",
    "    gamma = 0.75,\n",
    "    alpha = 0.2,\n",
    "    init_eps = .9,\n",
    "    final_eps = .2,\n",
    "    eps_decay_rate = 0.9995,\n",
    "    seed = 12020,            # Current year: (10000 + 2020 = 12020) Holocene calendar\n",
    ")\n",
    "args = namedtuple('args', args.keys())(*args.values()) \n",
    "\n",
    "# Seed\n",
    "np.random.seed(args.seed)\n",
    "random.seed(args.seed)\n",
    "\n",
    "sarsa_rewards = sarsa_agent.train(env, sarsa_agent.e_greedy_policy, args)\n"
   ]
  },
  {
   "cell_type": "code",
   "execution_count": 10,
   "metadata": {},
   "outputs": [
    {
     "data": {
      "image/png": "[encoded data removed]",
      "text/plain": [
       "<Figure size 432x288 with 1 Axes>"
      ]
     },
     "metadata": {
      "needs_background": "light"
     },
     "output_type": "display_data"
    }
   ],
   "source": [
    "# Sarsa reward visaulization\n",
    "\n",
    "%matplotlib inline\n",
    "plt.plot(np.convolve(sarsa_rewards, np.ones(10)/10, \"valid\"))\n",
    "plt.show()"
   ]
  },
  {
   "cell_type": "code",
   "execution_count": 11,
   "metadata": {},
   "outputs": [
    {
     "data": {
      "application/vnd.jupyter.widget-view+json": {
       "model_id": "74777c106e544d728547965966805fe3",
       "version_major": 2,
       "version_minor": 0
      },
      "text/plain": [
       "Canvas(layout=Layout(height='500px', width='700px'), size=(700, 500))"
      ]
     },
     "metadata": {},
     "output_type": "display_data"
    }
   ],
   "source": [
    "# Sarsa visaulization\n",
    "env.init_render()"
   ]
  },
  {
   "cell_type": "code",
   "execution_count": 12,
   "metadata": {},
   "outputs": [
    {
     "data": {
      "text/plain": [
       "2.0"
      ]
     },
     "execution_count": 12,
     "metadata": {},
     "output_type": "execute_result"
    }
   ],
   "source": [
    "sarsa_agent.evaluate(env, render=True)"
   ]
  },
  {
   "cell_type": "markdown",
   "metadata": {},
   "source": [
    "**Question 9)** Until now, you have learned both MC and TD methods to estimate value. Can you explain in which situations these methods(TD, MC) are most suitable?"
   ]
  },
  {
   "cell_type": "markdown",
   "metadata": {},
   "source": [
    "Monte Carlo methods perform\n",
    "an update for each state based on the entire sequence of observed rewards from that\n",
    "state until the end of the episode. The update of one-step TD methods, on the other\n",
    "hand, is based on just the one next reward, bootstrapping from the value of the state\n",
    "one step later as a proxy for the remaining rewards.\n",
    "\n",
    "In MC, we optimize our values after the episode is completed. In TD, we optimize our values after each iteration. So our policy changes during the episode. If we have targeted a specific final state or reward, it would be good to go with MC. Otherwise, we should select TD methods since they have more greedy approach for tuning values in each iteration."
   ]
  },
  {
   "cell_type": "markdown",
   "metadata": {},
   "source": [
    "**Question 10)** Can you think of an algorithm that combines the advanteges of MC and TD methods. Write down a **simple**  pseudocode."
   ]
  },
  {
   "cell_type": "markdown",
   "metadata": {},
   "source": [
    "With applying the sense of n-step TD methods to the MC method, we can achieve that.\n",
    "\n",
    "$\\pi$ = initialized policy\\\n",
    "Initialize V(s) arbitrarily\\\n",
    "In $S_t$ and $R_t$ s $t$ would be in $mod(n+1)$.\n",
    "\n",
    "$\\hspace{10mm}$ Loop for each episode:\\\n",
    "$\\hspace{20mm}$ Initialize and store $S_0$\\\n",
    "$\\hspace{20mm}$ Loop for $t=0,1,2...$:\\\n",
    "$\\hspace{30mm}$ if $t<T$:\\\n",
    "$\\hspace{40mm}$ Take an action according to $\\pi$\\\n",
    "$\\hspace{40mm}$ Observe and store reward as $R_{t+1}$ and the next state $S_{t+1}$\\\n",
    "$\\hspace{40mm}$ If $S_{t+1}$ is terminal, $T=t+1$\\\n",
    "$\\hspace{30mm}$ $\\tau = t-n+1$\\\n",
    "$\\hspace{30mm}$ if $\\tau \\geq 0$:\\\n",
    "$\\hspace{40mm}$ Calculate cumulative reward\\\n",
    "$\\hspace{40mm}$ If $\\tau + n < T$: Update cumulative reward with the addition of Value output\\\n",
    "$\\hspace{40mm}$ Update values"
   ]
  },
  {
   "cell_type": "markdown",
   "metadata": {},
   "source": [
    "#### Approximate Methods"
   ]
  },
  {
   "cell_type": "markdown",
   "metadata": {},
   "source": [
    "We have seen different ways to estimate value (or return) however until now we only worked on tabular representations. But almost always states are represented with vectors. In this part of the homework, you will be working on linear representations that can work with continuous state spaces.\n",
    "\n",
    "We can use any function to represent values as long as it returns a single scalar value for a state-action pair. For simplicity, we will be using a linear function. Function approximation methods can be used in both Sarsa and Q learning. In this homework, we will be implementing function approximation with Q learning.\n",
    "\n",
    "You can find a similar algorithm within the pseudocode at **chapter 9.3 in Reinforcement Learning Book (Sutton & Barto)**. These methods are called **semi-gradient** methods. The reason is that we do not take the gradient of the loss term(mean squared TD) with respect to both functions $Q(s,a)$ and $\\max_i Q(s', a_i)$.\n",
    "\n",
    "Please read the relevant section"
   ]
  },
  {
   "cell_type": "markdown",
   "metadata": {},
   "source": [
    "**Question 11)** In tabular settings, whenever we update the value of a particular state action pair $(s, a)$, only a single value changes. What are your thoughts about value change in approximate settings after an update?"
   ]
  },
  {
   "cell_type": "markdown",
   "metadata": {},
   "source": [
    "For each transition, we are taking gradients of weights and multiply the old weights with the multiplication of TD Error, these gradients and a specific alpha parameter. This way, we updated all the weights at the same time. This means in one action, we updated all values w.r.t. to the given reward and gradient values."
   ]
  },
  {
   "cell_type": "markdown",
   "metadata": {},
   "source": [
    "In this part of the homework, we will be using the **CartPole** environment. It is a continuous state, discrete action environment. You can check it out from [Open AI gym](https://gym.openai.com/envs/CartPole-v0/) for more details."
   ]
  },
  {
   "cell_type": "markdown",
   "metadata": {},
   "source": [
    "**Question 12)** We will be using a linear function. However, we still need to have some features over raw observation. Complete the implementation of the wrapper below."
   ]
  },
  {
   "cell_type": "code",
   "execution_count": 13,
   "metadata": {},
   "outputs": [],
   "source": [
    "from gym import ObservationWrapper\n",
    "from gym.spaces import Box\n",
    "\n",
    "\n",
    "class FeaturedObservation(ObservationWrapper):\n",
    "    \"\"\" Create feature vectors that are randomly scattered in the observation\n",
    "    space. Instead of returning the raw state(observation) return features.\n",
    "    The feature matrix is a KxN matrix where K denotes the number of features while N\n",
    "    denotes raw state space size. Each row in the Feature matrix represents a feature\n",
    "    in the state space.\n",
    "    \n",
    "    F(S): R^{N} -> R^{K}  \n",
    "    \n",
    "    Returning vector is simply a dot product between each feature vector and the\n",
    "    observed state(observation).\n",
    "    \n",
    "    Arguments:\n",
    "        - env: gym environment\n",
    "        - n_features: Number of features\n",
    "    \"\"\"\n",
    "    def __init__(self, env, n_features):\n",
    "        super().__init__(env)\n",
    "        self.features = np.random.uniform(\n",
    "            -0.4, 0.4,\n",
    "            size=(n_features, env.observation_space.shape[0]))\n",
    "        _low = env.observation_space.low.min()\n",
    "        _high = env.observation_space.high.max()\n",
    "        _dtype = env.observation_space.dtype\n",
    "        self.observation_space  = Box(low=_low,\n",
    "                                      high=_high,\n",
    "                                      shape=(n_features,),\n",
    "                                      dtype=_dtype)\n",
    "\n",
    "    def observation(self, observation):\n",
    "        \"\"\" Return features of the obervation using matrix multiplication.\n",
    "        \"\"\"\n",
    "        # IMPLEMENT HERE\n",
    "\n",
    "        return np.dot(self.features, observation)"
   ]
  },
  {
   "cell_type": "markdown",
   "metadata": {},
   "source": [
    "**Question 13)** In the ```rl_hw1/learning/approximate.py``` module, implement ```ApproximateAgent``` & ```ApproximateQAgent```"
   ]
  },
  {
   "cell_type": "markdown",
   "metadata": {},
   "source": [
    "**Question 14)** Run the approximate q learning agent by tuning the hyperparameters (```args```) given below."
   ]
  },
  {
   "cell_type": "code",
   "execution_count": 14,
   "metadata": {},
   "outputs": [
    {
     "name": "stderr",
     "output_type": "stream",
     "text": [
      "/home/nlztrk/anaconda3/envs/drl/lib/python3.6/site-packages/gym/envs/registration.py:14: PkgResourcesDeprecationWarning: Parameters to load are deprecated.  Call .resolve and .require separately.\n",
      "  result = entry_point.load(False)\n"
     ]
    },
    {
     "name": "stdout",
     "output_type": "stream",
     "text": [
      "Episode: 500, reward: 21.5\n",
      "Episode: 1000, reward: 24.2\n",
      "Episode: 1500, reward: 24.3\n",
      "Episode: 2000, reward: 33.6\n",
      "Episode: 2500, reward: 25.4\n",
      "Episode: 3000, reward: 32.15\n",
      "Episode: 3500, reward: 27.0\n",
      "Episode: 4000, reward: 28.2\n",
      "Episode: 4500, reward: 30.1\n",
      "Episode: 5000, reward: 35.3\n",
      "Episode: 5500, reward: 22.75\n",
      "Episode: 6000, reward: 36.05\n",
      "Episode: 6500, reward: 34.2\n",
      "Episode: 7000, reward: 35.4\n",
      "Episode: 7500, reward: 39.8\n",
      "Episode: 8000, reward: 44.45\n",
      "Episode: 8500, reward: 41.75\n",
      "Episode: 9000, reward: 35.25\n",
      "Episode: 9500, reward: 53.75\n",
      "Episode: 10000, reward: 53.55\n",
      "Episode: 10500, reward: 33.1\n",
      "Episode: 11000, reward: 47.45\n",
      "Episode: 11500, reward: 61.45\n",
      "Episode: 12000, reward: 35.1\n",
      "Episode: 12500, reward: 72.65\n",
      "Episode: 13000, reward: 52.4\n",
      "Episode: 13500, reward: 65.8\n",
      "Episode: 14000, reward: 66.3\n",
      "Episode: 14500, reward: 59.4\n",
      "Episode: 15000, reward: 48.5\n",
      "Episode: 15500, reward: 59.85\n",
      "Episode: 16000, reward: 59.5\n",
      "Episode: 16500, reward: 56.9\n",
      "Episode: 17000, reward: 78.3\n",
      "Episode: 17500, reward: 73.35\n",
      "Episode: 18000, reward: 76.0\n",
      "Episode: 18500, reward: 70.15\n",
      "Episode: 19000, reward: 64.15\n",
      "Episode: 19500, reward: 76.5\n",
      "Episode: 20000, reward: 90.9\n",
      "Episode: 20500, reward: 67.6\n",
      "Episode: 21000, reward: 85.6\n",
      "Episode: 21500, reward: 89.05\n",
      "Episode: 22000, reward: 81.7\n",
      "Episode: 22500, reward: 72.25\n",
      "Episode: 23000, reward: 89.65\n",
      "Episode: 23500, reward: 85.3\n",
      "Episode: 24000, reward: 77.45\n",
      "Episode: 24500, reward: 87.1\n",
      "Episode: 25000, reward: 93.85\n",
      "Episode: 25500, reward: 95.4\n",
      "Episode: 26000, reward: 87.8\n",
      "Episode: 26500, reward: 90.6\n",
      "Episode: 27000, reward: 95.6\n",
      "Episode: 27500, reward: 73.7\n",
      "Episode: 28000, reward: 96.05\n",
      "Episode: 28500, reward: 82.2\n",
      "Episode: 29000, reward: 99.4\n",
      "Episode: 29500, reward: 90.65\n",
      "Episode: 30000, reward: 102.05\n",
      "Episode: 30500, reward: 90.2\n",
      "Episode: 31000, reward: 92.2\n",
      "Episode: 31500, reward: 91.75\n",
      "Episode: 32000, reward: 97.9\n",
      "Episode: 32500, reward: 97.45\n",
      "Episode: 33000, reward: 108.9\n",
      "Episode: 33500, reward: 92.55\n",
      "Episode: 34000, reward: 98.9\n",
      "Episode: 34500, reward: 97.1\n",
      "Episode: 35000, reward: 107.55\n",
      "Episode: 35500, reward: 104.95\n",
      "Episode: 36000, reward: 111.65\n",
      "Episode: 36500, reward: 108.25\n",
      "Episode: 37000, reward: 91.65\n",
      "Episode: 37500, reward: 97.9\n",
      "Episode: 38000, reward: 97.05\n",
      "Episode: 38500, reward: 92.95\n",
      "Episode: 39000, reward: 122.4\n",
      "Episode: 39500, reward: 92.25\n",
      "Episode: 40000, reward: 101.6\n",
      "Episode: 40500, reward: 107.55\n",
      "Episode: 41000, reward: 100.7\n",
      "Episode: 41500, reward: 98.25\n",
      "Episode: 42000, reward: 103.85\n",
      "Episode: 42500, reward: 105.3\n",
      "Episode: 43000, reward: 85.5\n",
      "Episode: 43500, reward: 99.4\n",
      "Episode: 44000, reward: 99.75\n",
      "Episode: 44500, reward: 108.25\n",
      "Episode: 45000, reward: 92.9\n",
      "Episode: 45500, reward: 106.6\n",
      "Episode: 46000, reward: 105.6\n",
      "Episode: 46500, reward: 113.65\n",
      "Episode: 47000, reward: 100.5\n",
      "Episode: 47500, reward: 103.15\n",
      "Episode: 48000, reward: 108.05\n",
      "Episode: 48500, reward: 104.65\n",
      "Episode: 49000, reward: 107.85\n",
      "Episode: 49500, reward: 93.95\n",
      "Episode: 50000, reward: 93.4\n",
      "Episode: 50500, reward: 101.45\n",
      "Episode: 51000, reward: 95.45\n",
      "Episode: 51500, reward: 104.25\n",
      "Episode: 52000, reward: 105.15\n",
      "Episode: 52500, reward: 111.25\n",
      "Episode: 53000, reward: 95.0\n",
      "Episode: 53500, reward: 100.65\n",
      "Episode: 54000, reward: 103.75\n",
      "Episode: 54500, reward: 106.45\n",
      "Episode: 55000, reward: 103.2\n",
      "Episode: 55500, reward: 109.9\n",
      "Episode: 56000, reward: 105.85\n",
      "Episode: 56500, reward: 99.5\n",
      "Episode: 57000, reward: 97.5\n",
      "Episode: 57500, reward: 127.85\n",
      "Episode: 58000, reward: 112.3\n",
      "Episode: 58500, reward: 102.45\n",
      "Episode: 59000, reward: 92.85\n",
      "Episode: 59500, reward: 126.5\n",
      "Episode: 60000, reward: 104.1\n",
      "Episode: 60500, reward: 106.75\n",
      "Episode: 61000, reward: 100.05\n",
      "Episode: 61500, reward: 109.7\n",
      "Episode: 62000, reward: 89.45\n",
      "Episode: 62500, reward: 112.7\n",
      "Episode: 63000, reward: 102.7\n",
      "Episode: 63500, reward: 108.2\n",
      "Episode: 64000, reward: 98.1\n",
      "Episode: 64500, reward: 106.55\n",
      "Episode: 65000, reward: 101.45\n"
     ]
    }
   ],
   "source": [
    "from collections import namedtuple\n",
    "import numpy as np\n",
    "import random\n",
    "import gym\n",
    "import matplotlib.pyplot as plt\n",
    "\n",
    "from rl_hw1.learning import ApproximateQAgent\n",
    "\n",
    "# Hyperparameters\n",
    "args = dict(\n",
    "    episodes = 65000,\n",
    "    evaluate_period = 500,\n",
    "    n_features = 64,\n",
    "    gamma = 0.95,\n",
    "    alpha = 1e-10,\n",
    "    init_eps = 1,\n",
    "    final_eps = 0.05,\n",
    "    eps_decay_rate = 0.999965,\n",
    "    seed = 12020,            # Current year: (10000 + 2020 = 12020) Holocene calendar\n",
    ")\n",
    "args = namedtuple('args', args.keys())(*args.values())\n",
    "\n",
    "# Initiate environment\n",
    "env = gym.make(\"CartPole-v1\")\n",
    "\n",
    "# Seed\n",
    "env.seed(args.seed)\n",
    "np.random.seed(args.seed)\n",
    "random.seed(args.seed)\n",
    "\n",
    "# Wrap the environment\n",
    "env = FeaturedObservation(env, args.n_features)\n",
    "\n",
    "# Initialize agent\n",
    "appx_q_agent = ApproximateQAgent(\n",
    "    nobs = env.observation_space.shape[0],\n",
    "    nact = env.action_space.n\n",
    ")\n",
    "    \n",
    "appx_q_rewards, appx_q_losses = appx_q_agent.train(env, appx_q_agent.e_greedy_policy, args)"
   ]
  },
  {
   "cell_type": "code",
   "execution_count": 15,
   "metadata": {},
   "outputs": [
    {
     "data": {
      "text/plain": [
       "[<matplotlib.lines.Line2D at 0x7f75413500b8>]"
      ]
     },
     "execution_count": 15,
     "metadata": {},
     "output_type": "execute_result"
    },
    {
     "data": {
      "image/png": "[encoded data removed]",
      "text/plain": [
       "<Figure size 432x288 with 1 Axes>"
      ]
     },
     "metadata": {
      "needs_background": "light"
     },
     "output_type": "display_data"
    }
   ],
   "source": [
    "plt.title(\"Approximate q learning training\")\n",
    "plt.xlabel(\"episodic reward\")\n",
    "plt.ylabel(\"reward\")\n",
    "plt.plot(appx_q_rewards)"
   ]
  },
  {
   "cell_type": "markdown",
   "metadata": {},
   "source": [
    "Now evaluate your agent. We expect to see at least **100** episodic reward in average."
   ]
  },
  {
   "cell_type": "code",
   "execution_count": 16,
   "metadata": {},
   "outputs": [
    {
     "data": {
      "text/plain": [
       "147.0"
      ]
     },
     "execution_count": 16,
     "metadata": {},
     "output_type": "execute_result"
    }
   ],
   "source": [
    "# You can run this cell to visualize the agent\n",
    "# If you run evaluation with render from docker it may not work!!\n",
    "appx_q_agent.evaluate(env, render=True)"
   ]
  },
  {
   "cell_type": "code",
   "execution_count": 17,
   "metadata": {},
   "outputs": [
    {
     "name": "stdout",
     "output_type": "stream",
     "text": [
      "Average episodic reward: 101.0, Deviation: 22.53\n"
     ]
    }
   ],
   "source": [
    "appx_q_agent_rewards = [appx_q_agent.evaluate(env, render=False) for i in range(100)]\n",
    "print(\"Average episodic reward: {:.4}, Deviation: {:.4}\".\n",
    "      format(np.mean(appx_q_agent_rewards), np.std(appx_q_agent_rewards)))"
   ]
  },
  {
   "cell_type": "code",
   "execution_count": null,
   "metadata": {},
   "outputs": [],
   "source": []
  }
 ],
 "metadata": {
  "kernelspec": {
   "display_name": "drl",
   "language": "python",
   "name": "drl"
  },
  "language_info": {
   "codemirror_mode": {
    "name": "ipython",
    "version": 3
   },
   "file_extension": ".py",
   "mimetype": "text/x-python",
   "name": "python",
   "nbconvert_exporter": "python",
   "pygments_lexer": "ipython3",
   "version": "3.6.10"
  }
 },
 "nbformat": 4,
 "nbformat_minor": 2
}
