{
 "cells": [
  {
   "cell_type": "markdown",
   "metadata": {
    "colab_type": "text",
    "id": "4TiC7_vnw97n"
   },
   "source": [
    "# VAE\n",
    "\n",
    "In this section you are required to implement Variational Autoencoder. The general structure for VAE is given below. You can use it as a template.\n",
    "\n",
    "Variational Autoencoder is a type of autoencoder that can be used as a generative model. It has a reparametrization trick in bottleneck part.\n",
    "\n",
    "There are couple of studies you can examine before implementing the model.\n",
    "\n",
    "Auto-Encoding Variational Bayes: \n",
    "https://arxiv.org/abs/1312.6114\n",
    "\n",
    "Understanding Variational Autoencoders (VAEs): https://towardsdatascience.com/understanding-variational-autoencoders-vaes-f70510919f73\n",
    "\n"
   ]
  },
  {
   "cell_type": "markdown",
   "metadata": {
    "colab_type": "text",
    "id": "mn-DdohEw97s"
   },
   "source": [
    "# Environment setup\n",
    "Follow the tutorial about how to utilize Google Colab but **don't install PyTorch** as mentioned in the blog post.\n",
    "\n",
    "Turkish:\n",
    "https://medium.com/deep-learning-turkiye/google-colab-ile-%C3%BCcretsiz-gpu-kullan%C4%B1m%C4%B1-30fdb7dd822e\n",
    "\n",
    "English:\n",
    "https://medium.com/deep-learning-turkey/google-colab-free-gpu-tutorial-e113627b9f5d\n",
    "\n"
   ]
  },
  {
   "cell_type": "markdown",
   "metadata": {},
   "source": [
    "# I ran the code on my local PC"
   ]
  },
  {
   "cell_type": "code",
   "execution_count": 1,
   "metadata": {
    "colab": {
     "base_uri": "https://localhost:8080/",
     "height": 34
    },
    "colab_type": "code",
    "id": "l1hP5kVs5biO",
    "outputId": "84cfa94c-334e-4ffc-e577-3566c3a45ef1"
   },
   "outputs": [],
   "source": [
    "#from google.colab import drive\n",
    "#drive.mount('/content/drive/', force_remount=True)"
   ]
  },
  {
   "cell_type": "code",
   "execution_count": 2,
   "metadata": {
    "colab": {
     "base_uri": "https://localhost:8080/",
     "height": 306
    },
    "colab_type": "code",
    "id": "j4eZPapZw97u",
    "outputId": "0d1ba8bd-908a-413a-dd9d-3218a14156dd"
   },
   "outputs": [
    {
     "name": "stdout",
     "output_type": "stream",
     "text": [
      "Tue Dec 10 16:02:27 2019       \r\n",
      "+-----------------------------------------------------------------------------+\r\n",
      "| NVIDIA-SMI 435.21       Driver Version: 435.21       CUDA Version: 10.1     |\r\n",
      "|-------------------------------+----------------------+----------------------+\r\n",
      "| GPU  Name        Persistence-M| Bus-Id        Disp.A | Volatile Uncorr. ECC |\r\n",
      "| Fan  Temp  Perf  Pwr:Usage/Cap|         Memory-Usage | GPU-Util  Compute M. |\r\n",
      "|===============================+======================+======================|\r\n",
      "|   0  GeForce GTX 108...  Off  | 00000000:01:00.0  On |                  N/A |\r\n",
      "| 30%   54C    P0    71W / 275W |    256MiB / 11175MiB |      1%      Default |\r\n",
      "+-------------------------------+----------------------+----------------------+\r\n",
      "                                                                               \r\n",
      "+-----------------------------------------------------------------------------+\r\n",
      "| Processes:                                                       GPU Memory |\r\n",
      "|  GPU       PID   Type   Process name                             Usage      |\r\n",
      "|=============================================================================|\r\n",
      "|    0      1406      G   /usr/lib/xorg/Xorg                            18MiB |\r\n",
      "|    0      1460      G   /usr/bin/gnome-shell                          50MiB |\r\n",
      "|    0      1737      G   /usr/lib/xorg/Xorg                           106MiB |\r\n",
      "|    0      1884      G   /usr/bin/gnome-shell                          79MiB |\r\n",
      "+-----------------------------------------------------------------------------+\r\n"
     ]
    }
   ],
   "source": [
    "!nvidia-smi\n",
    "# This command should return some information about the GPU status if the runtime is right. \n",
    "# In addition to that, if you encounter memory issues, you can diagnose your model by this command."
   ]
  },
  {
   "cell_type": "code",
   "execution_count": 3,
   "metadata": {
    "colab": {},
    "colab_type": "code",
    "id": "dODxqPRJw975"
   },
   "outputs": [],
   "source": [
    "import torch\n",
    "from torch import nn, optim\n",
    "from torchvision import transforms, datasets\n",
    "from torch.utils.data import DataLoader, Dataset\n",
    "from torch.nn import functional as F\n",
    "import os\n",
    "import numpy as np\n",
    "import matplotlib.pyplot as plt\n",
    "from matplotlib.ticker import MaxNLocator\n",
    "from torch.autograd import Variable\n",
    "import matplotlib.gridspec as gridspec\n",
    "import cv2\n",
    "import random\n",
    "\n",
    "%matplotlib inline\n",
    "\n",
    "device = torch.device(\"cuda\")\n",
    "\n",
    "b_size = 32"
   ]
  },
  {
   "cell_type": "markdown",
   "metadata": {
    "colab_type": "text",
    "id": "-N5MxuL7w97-"
   },
   "source": [
    "# Load the MNIST data"
   ]
  },
  {
   "cell_type": "code",
   "execution_count": 4,
   "metadata": {
    "colab": {},
    "colab_type": "code",
    "id": "bKm85AIHw98A"
   },
   "outputs": [],
   "source": [
    "train_loader = torch.utils.data.DataLoader(\n",
    "    datasets.MNIST('data', train=True, download=True,\n",
    "                   transform=transforms.ToTensor()),\n",
    "    batch_size=b_size, shuffle=True)\n",
    "\n",
    "test_loader = torch.utils.data.DataLoader(\n",
    "    datasets.MNIST('data', train=False, transform=transforms.ToTensor()),\n",
    "    batch_size=b_size, shuffle=True)"
   ]
  },
  {
   "cell_type": "markdown",
   "metadata": {
    "colab_type": "text",
    "id": "J0MHXmoWw98I"
   },
   "source": [
    "# Implement the VAE Architecture of your Design\n",
    "\n",
    "Use Conv2d, ConvTranspose2d and Activation Layers to design a Variational Autoencoder Architecture"
   ]
  },
  {
   "cell_type": "code",
   "execution_count": 5,
   "metadata": {
    "colab": {},
    "colab_type": "code",
    "id": "cLxXhQXGw98J"
   },
   "outputs": [],
   "source": [
    "class VAE(torch.nn.Module):\n",
    "\n",
    "    def __init__(self):\n",
    "\n",
    "        super(VAE, self).__init__()\n",
    "        \n",
    "        self.fc_map_size = 8\n",
    "        self.lin_encode_size = 8\n",
    "        \n",
    "        self.cv1 = nn.Conv2d(1, self.fc_map_size, 3)\n",
    "        self.cv2 = nn.Conv2d(self.fc_map_size, self.fc_map_size*2, 3)\n",
    "        \n",
    "        self.flt = nn.Flatten()\n",
    "        \n",
    "        self.mean = nn.Linear(self.fc_map_size*2*24*24, self.lin_encode_size)\n",
    "        self.logvar = nn.Linear(self.fc_map_size*2*24*24, self.lin_encode_size)\n",
    "        \n",
    "        self.dec_fc1 = nn.Linear(self.lin_encode_size, self.fc_map_size*2*24*24)\n",
    "        \n",
    "        self.ct1 = nn.ConvTranspose2d(self.fc_map_size*2, self.fc_map_size, 3)\n",
    "        self.ct2 = nn.ConvTranspose2d(self.fc_map_size, 1, 3)\n",
    "\n",
    "    def encode(self, x):\n",
    "        \n",
    "        h1 = F.relu(self.cv1(x))\n",
    "        h2 = F.relu(self.cv2(h1))\n",
    "        fln = self.flt(h2)\n",
    "        \n",
    "        mean = self.mean(fln)\n",
    "        logvar = self.logvar(fln)\n",
    "        \n",
    "        return mean, logvar\n",
    "\n",
    "    def reparameterize(self, mu, logvar):\n",
    "        \n",
    "        std = torch.exp(0.5*logvar)\n",
    "        eps = torch.randn_like(std)\n",
    "        \n",
    "        return mu + eps*std\n",
    "\n",
    "    def decode(self, z):\n",
    "        \n",
    "        h = F.relu(self.dec_fc1(z))\n",
    "        h = h.view(-1,self.fc_map_size*2,24,24)\n",
    "        h = F.relu(self.ct1(h))\n",
    "        h = self.ct2(h)\n",
    "        \n",
    "        return torch.sigmoid(h)   \n",
    "    \n",
    "    def forward(self, x):\n",
    "\n",
    "        mu, logvar = self.encode(x)\n",
    "        z = self.reparameterize(mu, logvar)\n",
    "        \n",
    "        return self.decode(z), mu, logvar\n",
    "    "
   ]
  },
  {
   "cell_type": "code",
   "execution_count": 6,
   "metadata": {
    "colab": {},
    "colab_type": "code",
    "id": "D0sfHDeHw98M"
   },
   "outputs": [],
   "source": [
    "vae = VAE().to(device)"
   ]
  },
  {
   "cell_type": "markdown",
   "metadata": {
    "colab_type": "text",
    "id": "OtaHB_niw98g"
   },
   "source": [
    "# Initialization of the Optimizer: You can change the Parameters according to your needs"
   ]
  },
  {
   "cell_type": "code",
   "execution_count": 7,
   "metadata": {
    "colab": {},
    "colab_type": "code",
    "id": "gTbaxolpw98h"
   },
   "outputs": [],
   "source": [
    "lr = 0.0002\n",
    "\n",
    "optimizer = optim.Adam(vae.parameters(), lr=lr)"
   ]
  },
  {
   "cell_type": "markdown",
   "metadata": {
    "colab_type": "text",
    "id": "-xVc8h2Bw98l"
   },
   "source": [
    "# Variational Autoencoder combines Reconstruction Loss and KL Divergence Loss"
   ]
  },
  {
   "cell_type": "code",
   "execution_count": 8,
   "metadata": {
    "colab": {},
    "colab_type": "code",
    "id": "20RrvHI4w98m"
   },
   "outputs": [],
   "source": [
    "def loss_function(recon_x, x, mu, logvar):\n",
    "    \n",
    "    BCE = F.binary_cross_entropy(recon_x, x, reduction='sum')\n",
    "    KLD = -0.5 * torch.sum(1 + logvar - mu.pow(2) - logvar.exp())\n",
    "\n",
    "    return (BCE + KLD) / b_size"
   ]
  },
  {
   "cell_type": "markdown",
   "metadata": {
    "colab_type": "text",
    "id": "ihaVX4o4w98p"
   },
   "source": [
    "# Implement training loop"
   ]
  },
  {
   "cell_type": "code",
   "execution_count": 9,
   "metadata": {
    "colab": {},
    "colab_type": "code",
    "id": "gbnZ1mN8w984"
   },
   "outputs": [
    {
     "name": "stdout",
     "output_type": "stream",
     "text": [
      "epoch: {1}, batch number: {900}, error: {161.2327}\n",
      "epoch: {1}, batch number: {1800}, error: {151.8484}\n",
      "epoch: {2}, batch number: {900}, error: {139.3288}\n",
      "epoch: {2}, batch number: {1800}, error: {130.7582}\n",
      "epoch: {3}, batch number: {900}, error: {130.4708}\n",
      "epoch: {3}, batch number: {1800}, error: {126.1330}\n",
      "epoch: {4}, batch number: {900}, error: {128.2562}\n",
      "epoch: {4}, batch number: {1800}, error: {121.9489}\n",
      "epoch: {5}, batch number: {900}, error: {121.0166}\n",
      "epoch: {5}, batch number: {1800}, error: {130.6862}\n",
      "epoch: {6}, batch number: {900}, error: {131.4879}\n",
      "epoch: {6}, batch number: {1800}, error: {128.3384}\n",
      "epoch: {7}, batch number: {900}, error: {107.3627}\n",
      "epoch: {7}, batch number: {1800}, error: {120.5458}\n",
      "epoch: {8}, batch number: {900}, error: {114.8731}\n",
      "epoch: {8}, batch number: {1800}, error: {115.1694}\n",
      "epoch: {9}, batch number: {900}, error: {117.3911}\n",
      "epoch: {9}, batch number: {1800}, error: {116.0857}\n",
      "epoch: {10}, batch number: {900}, error: {115.2051}\n",
      "epoch: {10}, batch number: {1800}, error: {133.4496}\n",
      "epoch: {11}, batch number: {900}, error: {114.0852}\n",
      "epoch: {11}, batch number: {1800}, error: {113.8145}\n",
      "epoch: {12}, batch number: {900}, error: {132.0216}\n",
      "epoch: {12}, batch number: {1800}, error: {109.2137}\n",
      "epoch: {13}, batch number: {900}, error: {120.9962}\n",
      "epoch: {13}, batch number: {1800}, error: {109.8646}\n",
      "epoch: {14}, batch number: {900}, error: {102.5007}\n",
      "epoch: {14}, batch number: {1800}, error: {114.8011}\n",
      "epoch: {15}, batch number: {900}, error: {111.4541}\n",
      "epoch: {15}, batch number: {1800}, error: {110.4075}\n",
      "epoch: {16}, batch number: {900}, error: {111.2591}\n",
      "epoch: {16}, batch number: {1800}, error: {116.6622}\n",
      "epoch: {17}, batch number: {900}, error: {113.9929}\n",
      "epoch: {17}, batch number: {1800}, error: {121.8750}\n",
      "epoch: {18}, batch number: {900}, error: {112.9782}\n",
      "epoch: {18}, batch number: {1800}, error: {116.9508}\n",
      "epoch: {19}, batch number: {900}, error: {103.3477}\n",
      "epoch: {19}, batch number: {1800}, error: {109.9993}\n",
      "epoch: {20}, batch number: {900}, error: {110.7197}\n",
      "epoch: {20}, batch number: {1800}, error: {109.1865}\n"
     ]
    }
   ],
   "source": [
    "# Train mode enabled\n",
    "vae.train()\n",
    "\n",
    "num_epochs = 20\n",
    "train_loss = 0\n",
    "losses = []\n",
    "\n",
    "for epoch in range(num_epochs):\n",
    "    \n",
    "    for n_batch, (batch,_) in enumerate(train_loader):\n",
    "        \n",
    "        # Sending data to the CUDA device\n",
    "        batch = batch.to(device)\n",
    "        \n",
    "        # Zeroing the gradients of our optimizer\n",
    "        optimizer.zero_grad()\n",
    "        \n",
    "        # Forward-Pass\n",
    "        recon_batch, mu, logvar = vae(batch)\n",
    "        \n",
    "        # Calculating our VAE loss\n",
    "        loss = loss_function(recon_batch, batch, mu, logvar)\n",
    "        \n",
    "        # Calculating the gradients\n",
    "        loss.backward()\n",
    "        \n",
    "        # Adding it up onto the total loss\n",
    "        train_loss += loss.item()\n",
    "        \n",
    "        # Running the optimizer on our VAE\n",
    "        optimizer.step()\n",
    "        \n",
    "        if (n_batch + 1) % 900 == 0:\n",
    "            print(\"epoch: {%d}, batch number: {%d}, error: {%.4f}\" % \n",
    "                  (epoch + 1, n_batch + 1, loss.item(), ))\n",
    "            \n",
    "    train_loss /= (n_batch+1)\n",
    "    losses.append(train_loss)\n",
    "    train_loss = 0"
   ]
  },
  {
   "cell_type": "markdown",
   "metadata": {},
   "source": [
    "We create and implement our plotter function to see if our data is expected for us or not."
   ]
  },
  {
   "cell_type": "code",
   "execution_count": 10,
   "metadata": {},
   "outputs": [],
   "source": [
    "def show_images(images, rowlim):\n",
    "    \n",
    "    images = np.reshape(images, [images.shape[0], -1])\n",
    "    sqrtn = int(np.ceil(np.sqrt(images.shape[0])))\n",
    "    sqrtimg = int(np.ceil(np.sqrt(images.shape[1])))\n",
    "\n",
    "    fig = plt.figure(figsize=(sqrtn*3, sqrtn*3))\n",
    "    gs = gridspec.GridSpec(10, rowlim)\n",
    "    gs.update(wspace=0.15, hspace=0.15)\n",
    "\n",
    "    for i, img in enumerate(images):\n",
    "        ax = plt.subplot(gs[i])\n",
    "        plt.axis('off')\n",
    "        ax.set_xticklabels([])\n",
    "        ax.set_yticklabels([])\n",
    "        \n",
    "        img = img.reshape([28, 28, 3])\n",
    "        img = np.array(img)\n",
    "        img = cv2.resize(img,None,fx=3,fy=3)\n",
    "        plt.imshow(img)\n",
    "        \n",
    "    plt.show()"
   ]
  },
  {
   "cell_type": "markdown",
   "metadata": {
    "colab_type": "text",
    "id": "0B5ROA9yw988"
   },
   "source": [
    "## Report the training loss curves and test results (generated images) for VAE. Also briefly discuss the results."
   ]
  },
  {
   "cell_type": "code",
   "execution_count": 11,
   "metadata": {
    "colab": {},
    "colab_type": "code",
    "id": "AMXWetgow989"
   },
   "outputs": [
    {
     "data": {
      "image/png": "[encoded data removed]",
      "text/plain": [
       "<Figure size 432x288 with 1 Axes>"
      ]
     },
     "metadata": {
      "needs_background": "light"
     },
     "output_type": "display_data"
    }
   ],
   "source": [
    "# Plotting VAE Loss\n",
    "set_size = np.arange(len(losses))\n",
    "\n",
    "ax = plt.figure().gca()\n",
    "ax.xaxis.set_major_locator(MaxNLocator(integer=True))\n",
    "\n",
    "plt.plot(set_size, losses)\n",
    "plt.xlabel('Epochs')\n",
    "plt.ylabel('Loss')\n",
    "plt.title(\"Loss History\")\n",
    "plt.show()"
   ]
  },
  {
   "cell_type": "code",
   "execution_count": 12,
   "metadata": {},
   "outputs": [
    {
     "name": "stdout",
     "output_type": "stream",
     "text": [
      "Original images and the corresponding VAE outputs:\n"
     ]
    },
    {
     "data": {
      "image/png": "[encoded data removed]",
      "text/plain": [
       "<Figure size 864x864 with 12 Axes>"
      ]
     },
     "metadata": {
      "needs_background": "light"
     },
     "output_type": "display_data"
    },
    {
     "data": {
      "image/png": "[encoded data removed]",
      "text/plain": [
       "<Figure size 864x864 with 12 Axes>"
      ]
     },
     "metadata": {
      "needs_background": "light"
     },
     "output_type": "display_data"
    }
   ],
   "source": [
    "# Test mode enabled\n",
    "vae.eval()\n",
    "\n",
    "images = []\n",
    "sample_arr = []\n",
    "\n",
    "for n_batch, (batch,_) in enumerate(test_loader):\n",
    "    \n",
    "    with torch.no_grad():\n",
    "        \n",
    "        batch = batch.to(device)\n",
    "\n",
    "        orig_img = batch[0].view([28,28,1]).expand(-1, -1, 3).cpu().detach().numpy()\n",
    "        samples = vae.forward(batch)\n",
    "\n",
    "        sample = samples[0][0]     \n",
    "        sample = sample.view([28,28,1]).expand(-1, -1, 3).cpu().detach().numpy()\n",
    "\n",
    "        images.append(orig_img)\n",
    "        sample_arr.append(sample)\n",
    "        \n",
    "        if n_batch==11:\n",
    "            break\n",
    "\n",
    "images = np.array(images)\n",
    "sample_arr = np.array(sample_arr)\n",
    "\n",
    "print(\"Original images and the corresponding VAE outputs:\")\n",
    "show_images(images, 12)\n",
    "show_images(sample_arr, 12)"
   ]
  },
  {
   "cell_type": "markdown",
   "metadata": {},
   "source": [
    "Since the VAE outputs look similar to the original images with that shallow neural network, I think we can accept that as a success."
   ]
  },
  {
   "cell_type": "markdown",
   "metadata": {
    "colab_type": "text",
    "id": "pfbkqwQozpyL"
   },
   "source": [
    "## Randomly generate a sample then traverse in its latent space dimensions (add small numbers to only one dimension) see how it affects generated images"
   ]
  },
  {
   "cell_type": "code",
   "execution_count": 13,
   "metadata": {
    "colab": {},
    "colab_type": "code",
    "id": "jitMtr4D0bcB"
   },
   "outputs": [
    {
     "name": "stdout",
     "output_type": "stream",
     "text": [
      " Sample \n",
      "----------------\n"
     ]
    },
    {
     "data": {
      "image/png": "[encoded data removed]",
      "text/plain": [
       "<Figure size 432x288 with 1 Axes>"
      ]
     },
     "metadata": {
      "needs_background": "light"
     },
     "output_type": "display_data"
    },
    {
     "name": "stdout",
     "output_type": "stream",
     "text": [
      "\n",
      "----------------------------------------------------------------------\n",
      "\n",
      "\n",
      " Sample with modified Axis 0, ID 27 \n",
      "-----------------------------------\n"
     ]
    },
    {
     "data": {
      "image/png": "[encoded data removed]",
      "text/plain": [
       "<Figure size 432x288 with 1 Axes>"
      ]
     },
     "metadata": {
      "needs_background": "light"
     },
     "output_type": "display_data"
    },
    {
     "name": "stdout",
     "output_type": "stream",
     "text": [
      " Sample with modified Axis 0, ID 22 \n",
      "-----------------------------------\n"
     ]
    },
    {
     "data": {
      "image/png": "[encoded data removed]",
      "text/plain": [
       "<Figure size 432x288 with 1 Axes>"
      ]
     },
     "metadata": {
      "needs_background": "light"
     },
     "output_type": "display_data"
    },
    {
     "name": "stdout",
     "output_type": "stream",
     "text": [
      " Sample with modified Axis 0, ID 19 \n",
      "-----------------------------------\n"
     ]
    },
    {
     "data": {
      "image/png": "[encoded data removed]",
      "text/plain": [
       "<Figure size 432x288 with 1 Axes>"
      ]
     },
     "metadata": {
      "needs_background": "light"
     },
     "output_type": "display_data"
    },
    {
     "name": "stdout",
     "output_type": "stream",
     "text": [
      " Sample with modified Axis 0, ID 14 \n",
      "-----------------------------------\n"
     ]
    },
    {
     "data": {
      "image/png": "[encoded data removed]",
      "text/plain": [
       "<Figure size 432x288 with 1 Axes>"
      ]
     },
     "metadata": {
      "needs_background": "light"
     },
     "output_type": "display_data"
    }
   ],
   "source": [
    "# Locking the gradients\n",
    "vae.eval()\n",
    "\n",
    "for n_batch, (batch,_) in enumerate(test_loader):\n",
    "    \n",
    "    batch = batch.to(device)\n",
    "    samples = vae.forward(batch)\n",
    "    sample = samples[0][0]     \n",
    "    img_sample = sample.view([28,28,1]).expand(-1, -1, 3).cpu().detach().numpy()\n",
    "\n",
    "    break\n",
    "    \n",
    "print(\" Sample \\n----------------\")\n",
    "\n",
    "plt.imshow(img_sample)\n",
    "plt.show()\n",
    "\n",
    "orig_sample = sample.detach().view([1,1,28,28])\n",
    "\n",
    "print(\"\\n\"+\"--\"*35+\"\\n\"*2)\n",
    "\n",
    "for imcount in range(14,18):\n",
    "    \n",
    "    pick = random.randint(2,27)\n",
    "    \n",
    "    print(\" Sample with modified Axis 0, ID \"+str(pick)+\" \\n\"+\"-\"*35)\n",
    "    temp = orig_sample\n",
    "    temp[0][0][pick][:] += 1e-1\n",
    "    \n",
    "    temp = vae.forward(temp)\n",
    "    temp = temp[0][0] \n",
    "    \n",
    "    temp = temp.view(28,28,1).expand(-1, -1, 3).cpu().detach().numpy()\n",
    "    \n",
    "    plt.imshow(temp)\n",
    "    plt.show()"
   ]
  },
  {
   "cell_type": "markdown",
   "metadata": {
    "colab_type": "text",
    "id": "O6WfBEG2Boi4"
   },
   "source": [
    "#### After you have completed the training, save your model using the following command"
   ]
  },
  {
   "cell_type": "code",
   "execution_count": 14,
   "metadata": {
    "colab": {},
    "colab_type": "code",
    "id": "adprF5osBpgo"
   },
   "outputs": [],
   "source": [
    "student_id = 504181504\n",
    "torch.save(vae.state_dict(),'vae_{}.pth'.format(student_id))"
   ]
  }
 ],
 "metadata": {
  "accelerator": "GPU",
  "colab": {
   "collapsed_sections": [],
   "machine_shape": "hm",
   "name": "VariationalAutoencoder.ipynb",
   "provenance": []
  },
  "kernelspec": {
   "display_name": "Python 3",
   "language": "python",
   "name": "python3"
  },
  "language_info": {
   "codemirror_mode": {
    "name": "ipython",
    "version": 3
   },
   "file_extension": ".py",
   "mimetype": "text/x-python",
   "name": "python",
   "nbconvert_exporter": "python",
   "pygments_lexer": "ipython3",
   "version": "3.5.6"
  }
 },
 "nbformat": 4,
 "nbformat_minor": 1
}
